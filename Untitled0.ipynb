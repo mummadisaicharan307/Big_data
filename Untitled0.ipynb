{
  "nbformat": 4,
  "nbformat_minor": 0,
  "metadata": {
    "colab": {
      "provenance": []
    },
    "kernelspec": {
      "name": "python3",
      "display_name": "Python 3"
    },
    "language_info": {
      "name": "python"
    }
  },
  "cells": [
    {
      "cell_type": "markdown",
      "source": [
        "IMPORTING REQUIRED LIBRARIES"
      ],
      "metadata": {
        "id": "dzA_t9g_RECc"
      }
    },
    {
      "cell_type": "code",
      "source": [
        "!pip install cassandra-driver\n",
        "from cassandra.cluster import Cluster\n",
        "from cassandra.auth import PlainTextAuthProvider\n",
        "import json\n",
        "import csv\n",
        "from datetime import datetime\n",
        "import pandas as pd\n",
        "from cassandra.query import SimpleStatement"
      ],
      "metadata": {
        "colab": {
          "base_uri": "https://localhost:8080/"
        },
        "id": "y3KDzpGZQu67",
        "outputId": "1c74677a-0c93-4265-dafa-21c0ba2024a0"
      },
      "execution_count": 43,
      "outputs": [
        {
          "output_type": "stream",
          "name": "stdout",
          "text": [
            "Requirement already satisfied: cassandra-driver in /usr/local/lib/python3.10/dist-packages (3.29.2)\n",
            "Requirement already satisfied: geomet<0.3,>=0.1 in /usr/local/lib/python3.10/dist-packages (from cassandra-driver) (0.2.1.post1)\n",
            "Requirement already satisfied: click in /usr/local/lib/python3.10/dist-packages (from geomet<0.3,>=0.1->cassandra-driver) (8.1.7)\n",
            "Requirement already satisfied: six in /usr/local/lib/python3.10/dist-packages (from geomet<0.3,>=0.1->cassandra-driver) (1.16.0)\n"
          ]
        }
      ]
    },
    {
      "cell_type": "markdown",
      "source": [
        "CONNECTING TO CASSSANDRA"
      ],
      "metadata": {
        "id": "k_l30fn2RBEb"
      }
    },
    {
      "cell_type": "code",
      "source": [
        "def connect_to_cassandra():\n",
        "  cloud_config= {\n",
        "  'secure_connect_bundle': '/secure-connect-saicharan-database.zip'\n",
        "  }\n",
        "  with open('/Saicharan_Database-token.json') as f:\n",
        "      secrets = json.load(f)\n",
        "\n",
        "  CLIENT_ID = secrets[\"clientId\"]\n",
        "  CLIENT_SECRET = secrets[\"secret\"]\n",
        "\n",
        "  auth_provider = PlainTextAuthProvider(CLIENT_ID, CLIENT_SECRET)\n",
        "  cluster = Cluster(cloud=cloud_config, auth_provider=auth_provider)\n",
        "  session = cluster.connect()\n",
        "  if session:\n",
        "    print(\"Session Created Successfully\")\n",
        "    return session\n",
        "  else:\n",
        "    print(\"Session is not established\")"
      ],
      "metadata": {
        "id": "BZl3t9PRQ582"
      },
      "execution_count": 9,
      "outputs": []
    },
    {
      "cell_type": "code",
      "source": [
        "session = connect_to_cassandra()\n",
        "keyspace = \"medallion_architecture\"\n",
        "session.set_keyspace(keyspace)\n",
        "print(\"keyspace is set to medallion architecture\")"
      ],
      "metadata": {
        "colab": {
          "base_uri": "https://localhost:8080/"
        },
        "id": "LRlnpa0DRXzT",
        "outputId": "073836bc-4123-4db0-e27d-5858b09da9c9"
      },
      "execution_count": 10,
      "outputs": [
        {
          "output_type": "stream",
          "name": "stderr",
          "text": [
            "WARNING:cassandra.cluster:Downgrading core protocol version from 66 to 65 for 7fb9d15a-4216-4969-a23a-c994b120e8a6-us-east1.db.astra.datastax.com:29042:678e6a1d-e5b1-3cba-b949-7bfaf823957f. To avoid this, it is best practice to explicitly set Cluster(protocol_version) to the version supported by your cluster. http://datastax.github.io/python-driver/api/cassandra/cluster.html#cassandra.cluster.Cluster.protocol_version\n",
            "WARNING:cassandra.cluster:Downgrading core protocol version from 65 to 5 for 7fb9d15a-4216-4969-a23a-c994b120e8a6-us-east1.db.astra.datastax.com:29042:678e6a1d-e5b1-3cba-b949-7bfaf823957f. To avoid this, it is best practice to explicitly set Cluster(protocol_version) to the version supported by your cluster. http://datastax.github.io/python-driver/api/cassandra/cluster.html#cassandra.cluster.Cluster.protocol_version\n",
            "WARNING:cassandra.cluster:Downgrading core protocol version from 5 to 4 for 7fb9d15a-4216-4969-a23a-c994b120e8a6-us-east1.db.astra.datastax.com:29042:678e6a1d-e5b1-3cba-b949-7bfaf823957f. To avoid this, it is best practice to explicitly set Cluster(protocol_version) to the version supported by your cluster. http://datastax.github.io/python-driver/api/cassandra/cluster.html#cassandra.cluster.Cluster.protocol_version\n"
          ]
        },
        {
          "output_type": "stream",
          "name": "stdout",
          "text": [
            "Session Created Successfully\n",
            "keyspace is set to medallion architecture\n"
          ]
        }
      ]
    },
    {
      "cell_type": "markdown",
      "source": [
        "BRONZE TABLE"
      ],
      "metadata": {
        "id": "RwpP8JljS1v_"
      }
    },
    {
      "cell_type": "code",
      "source": [
        "def list_table_data(session, keyspace, table_name):\n",
        "  query = \"SELECT * FROM %s LIMIT 10\"\n",
        "  data = session.execute(query,(table_name))\n",
        "  for each in data:\n",
        "    print(each)\n",
        "\n",
        "def drop_table(session, keyspace, table_name):\n",
        "    query = \"SELECT table_name FROM system_schema.tables WHERE keyspace_name = %s AND table_name = %s\"\n",
        "    result = session.execute(query, (keyspace, table_name))\n",
        "\n",
        "    if result.current_rows:\n",
        "        print(f\"Table '{table_name}' already exists in keyspace '{keyspace}'. Dropping it...\")\n",
        "        drop_query = f\"DROP TABLE {table_name}\"\n",
        "        session.execute(drop_query)\n",
        "        print(f\"Table '{table_name}' dropped successfully.\")\n",
        "    else:\n",
        "        print(f\"Table '{table_name}' does not exist. Ready to create a new table.\")"
      ],
      "metadata": {
        "id": "xHUImuMiS2qE"
      },
      "execution_count": 11,
      "outputs": []
    },
    {
      "cell_type": "code",
      "source": [
        "drop_table(session,keyspace,\"bronze_data\")\n",
        "session.execute(\"\"\"\n",
        "    CREATE TABLE IF NOT EXISTS bronze_data (\n",
        "        region TEXT,\n",
        "        country TEXT,\n",
        "        item_type TEXT,\n",
        "        sales_channel TEXT,\n",
        "        order_priority TEXT,\n",
        "        order_date TEXT,  -- Use TEXT for date; adjust as needed\n",
        "        order_id TEXT PRIMARY KEY,  -- Unique order ID\n",
        "        ship_date TEXT,\n",
        "        units_sold INT,\n",
        "        unit_price FLOAT,\n",
        "        unit_cost FLOAT,\n",
        "        total_revenue FLOAT,\n",
        "        total_cost FLOAT,\n",
        "        total_profit FLOAT\n",
        "    )\n",
        "\"\"\")\n",
        "\n",
        "print(\"Connected to Astra DB and Bronze table created successfully!\")\n",
        "\n",
        "csv_file = \"/sales_100.csv\"\n",
        "\n",
        "with open(csv_file, 'r') as file:\n",
        "    reader = csv.DictReader(file)\n",
        "    for row in reader:\n",
        "        session.execute(\"\"\"\n",
        "            INSERT INTO bronze_data (\n",
        "                region, country, item_type, sales_channel,\n",
        "                order_priority, order_date, order_id, ship_date,\n",
        "                units_sold, unit_price, unit_cost,\n",
        "                total_revenue, total_cost, total_profit\n",
        "            )\n",
        "            VALUES (%s, %s, %s, %s, %s, %s, %s, %s, %s, %s, %s, %s, %s, %s)\n",
        "        \"\"\", (\n",
        "            row['Region'], row['Country'], row['Item Type'], row['Sales Channel'],\n",
        "            row['Order Priority'], row['Order Date'], row['Order ID'], row['Ship Date'],\n",
        "            int(row['UnitsSold']), float(row['UnitPrice']), float(row['UnitCost']),\n",
        "            float(row['TotalRevenue']), float(row['TotalCost']), float(row['TotalProfit'])\n",
        "        ))\n",
        "\n",
        "print(\"BRONZE TABLE\")\n",
        "\n",
        "print(\"Data inserted into Bronze table on Astra DB successfully!\")\n",
        "\n",
        "data = session.execute(\"SELECT * FROM bronze_data LIMIT 10\")\n",
        "for i in data:\n",
        "    print(i)"
      ],
      "metadata": {
        "colab": {
          "base_uri": "https://localhost:8080/"
        },
        "id": "F4Izs-SYUS_M",
        "outputId": "ed875efa-40c6-4624-a2fb-0ff023dceb78"
      },
      "execution_count": 50,
      "outputs": [
        {
          "output_type": "stream",
          "name": "stdout",
          "text": [
            "Table 'bronze_data' already exists in keyspace 'medallion_architecture'. Dropping it...\n",
            "Table 'bronze_data' dropped successfully.\n",
            "Connected to Astra DB and Bronze table created successfully!\n",
            "BRONZE TABLE\n",
            "Data inserted into Bronze table on Astra DB successfully!\n",
            "Row(order_id='940980136', country='New Zealand', item_type='Beverages', order_date='10/11/2012', order_priority='M', region='Australia and Oceania', sales_channel='Online', ship_date='11/4/2012', total_cost=184000.515625, total_profit=90640.078125, total_revenue=274640.59375, unit_cost=31.790000915527344, unit_price=47.45000076293945, units_sold=5788)\n",
            "Row(order_id='363086831', country='Mali', item_type='Household', order_date='8/19/2010', order_priority='M', region='Sub-Saharan Africa', sales_channel='Offline', ship_date='9/7/2010', total_cost=2169465.25, total_profit=715456.4375, total_revenue=2884921.5, unit_cost=502.5400085449219, unit_price=668.27001953125, units_sold=4317)\n",
            "Row(order_id='176461303', country='Singapore', item_type='Snacks', order_date='1/28/2013', order_priority='C', region='Asia', sales_channel='Online', ship_date='2/7/2013', total_cost=747949.4375, total_profit=423254.625, total_revenue=1171204.125, unit_cost=97.44000244140625, unit_price=152.5800018310547, units_sold=7676)\n",
            "Row(order_id='438011872', country='Dominica', item_type='Beverages', order_date='6/12/2012', order_priority='L', region='Central America and the Caribbean', sales_channel='Online', ship_date='7/18/2012', total_cost=200308.796875, total_profit=98673.65625, total_revenue=298982.4375, unit_cost=31.790000915527344, unit_price=47.45000076293945, units_sold=6301)\n",
            "Row(order_id='135178029', country='United Kingdom', item_type='Cosmetics', order_date='5/1/2015', order_priority='L', region='Europe', sales_channel='Online', ship_date='5/16/2015', total_cost=273336.53125, total_profit=180477.0625, total_revenue=453813.59375, unit_cost=263.3299865722656, unit_price=437.20001220703125, units_sold=1038)\n",
            "Row(order_id='488121116', country='The Bahamas', item_type='Fruits', order_date='6/18/2010', order_priority='L', region='Central America and the Caribbean', sales_channel='Offline', ship_date='6/30/2010', total_cost=32800.80078125, total_profit=11423.400390625, total_revenue=44224.19921875, unit_cost=6.920000076293945, unit_price=9.329999923706055, units_sold=4740)\n",
            "Row(order_id='845056617', country='Netherlands', item_type='Fruits', order_date='11/19/2016', order_priority='L', region='Europe', sales_channel='Online', ship_date='11/30/2016', total_cost=68418.0390625, total_profit=23827.669921875, total_revenue=92245.7109375, unit_cost=6.920000076293945, unit_price=9.329999923706055, units_sold=9887)\n",
            "Row(order_id='667593514', country='Morocco', item_type='Clothes', order_date='9/14/2013', order_priority='M', region='Middle East and North Africa', sales_channel='Online', ship_date='10/19/2013', total_cost=165258.234375, total_profit=338631.84375, total_revenue=503890.09375, unit_cost=35.84000015258789, unit_price=109.27999877929688, units_sold=4611)\n",
            "Row(order_id='425793445', country='Seychelles ', item_type='Beverages', order_date='1/18/2013', order_priority='M', region='Sub-Saharan Africa', sales_channel='Online', ship_date='2/16/2013', total_cost=18978.630859375, total_profit=9349.01953125, total_revenue=28327.650390625, unit_cost=31.790000915527344, unit_price=47.45000076293945, units_sold=597)\n",
            "Row(order_id='467399013', country='Monaco', item_type='Beverages', order_date='5/29/2016', order_priority='M', region='Europe', sales_channel='Offline', ship_date='6/14/2016', total_cost=82940.109375, total_profit=40856.94140625, total_revenue=123797.046875, unit_cost=31.790000915527344, unit_price=47.45000076293945, units_sold=2609)\n"
          ]
        }
      ]
    },
    {
      "cell_type": "markdown",
      "source": [
        "SILVER TABLE"
      ],
      "metadata": {
        "id": "BIVhNOw2S9Rv"
      }
    },
    {
      "cell_type": "code",
      "source": [
        "drop_table(session,keyspace,'silver_sales_data')\n",
        "create_query = \"\"\"\n",
        "CREATE TABLE IF NOT EXISTS silver_sales_data (\n",
        "    region TEXT,\n",
        "    country TEXT,\n",
        "    item_type TEXT,\n",
        "    total_units_sold INT,\n",
        "    average_unit_price FLOAT,\n",
        "    total_revenue FLOAT,\n",
        "    total_cost FLOAT,\n",
        "    total_profit FLOAT,\n",
        "    PRIMARY KEY ((region, country), item_type)\n",
        ");\"\"\"\n",
        "session.execute(create_query)\n",
        "print(\"Silver table created successfully\")\n",
        "fetch_query = \"SELECT * FROM bronze_sales_data\"\n",
        "rows = session.execute(fetch_query)\n",
        "\n",
        "aggregated_data = {}\n",
        "\n",
        "for row in rows:\n",
        "    region = row.region\n",
        "    country = row.country\n",
        "    item_type = row.item_type\n",
        "    units_sold = row.units_sold\n",
        "    unit_price = row.unit_price\n",
        "    total_revenue = row.total_revenue\n",
        "    total_cost = row.total_cost\n",
        "    total_profit = row.total_profit\n",
        "\n",
        "    key = (region, country, item_type)\n",
        "\n",
        "    if key not in aggregated_data:\n",
        "        aggregated_data[key] = {\n",
        "            'total_units_sold': 0,\n",
        "            'total_revenue': 0.0,\n",
        "            'total_cost': 0.0,\n",
        "            'total_profit': 0.0,\n",
        "            'total_price': 0.0,\n",
        "            'count': 0\n",
        "        }\n",
        "\n",
        "    aggregated_data[key]['total_units_sold'] += units_sold\n",
        "    aggregated_data[key]['total_revenue'] += total_revenue\n",
        "    aggregated_data[key]['total_cost'] += total_cost\n",
        "    aggregated_data[key]['total_profit'] += total_profit\n",
        "    aggregated_data[key]['total_price'] += unit_price * units_sold\n",
        "    aggregated_data[key]['count'] += 1"
      ],
      "metadata": {
        "colab": {
          "base_uri": "https://localhost:8080/"
        },
        "id": "J6YwGLCIS_4X",
        "outputId": "60eee785-e7e3-45b7-ad8a-b0cc8cc81e08"
      },
      "execution_count": 32,
      "outputs": [
        {
          "output_type": "stream",
          "name": "stdout",
          "text": [
            "Table 'silver_sales_data' already exists in keyspace 'medallion_architecture'. Dropping it...\n",
            "Table 'silver_sales_data' dropped successfully.\n",
            "Silver table created successfully\n"
          ]
        }
      ]
    },
    {
      "cell_type": "code",
      "source": [
        "print(\"SILVER TABLE\")\n",
        "\n",
        "for key, data in aggregated_data.items():\n",
        "    region, country, item_type = key\n",
        "    total_units_sold = data['total_units_sold']\n",
        "    total_revenue = data['total_revenue']\n",
        "    total_cost = data['total_cost']\n",
        "    total_profit = data['total_profit']\n",
        "    average_unit_price = data['total_price'] / data['total_units_sold'] if data['total_units_sold'] > 0 else 0\n",
        "\n",
        "    insert_query = (\"\"\"\n",
        "        INSERT INTO silver_sales_data (region, country, item_type, total_units_sold, average_unit_price, total_revenue, total_cost, total_profit)\n",
        "        VALUES (%s, %s, %s, %s, %s, %s, %s, %s)\n",
        "    \"\"\")\n",
        "\n",
        "    session.execute(insert_query, (region, country, item_type, total_units_sold, average_unit_price, total_revenue, total_cost, total_profit))\n",
        "\n",
        "data = session.execute(\"SELECT * FROM silver_sales_data LIMIT 10\")\n",
        "for i in data:\n",
        "    print(i)"
      ],
      "metadata": {
        "colab": {
          "base_uri": "https://localhost:8080/"
        },
        "id": "ccfKh9KlZ3tI",
        "outputId": "045e295d-63f0-4045-a99d-079a97c21286"
      },
      "execution_count": 51,
      "outputs": [
        {
          "output_type": "stream",
          "name": "stdout",
          "text": [
            "SILVER TABLE\n",
            "Row(region='Europe', country='United Kingdom', item_type='Cosmetics', average_unit_price=437.20001220703125, total_cost=273336.53125, total_profit=180477.0625, total_revenue=453813.59375, total_units_sold=1038)\n",
            "Row(region='Europe', country='Estonia', item_type='Household', average_unit_price=668.27001953125, total_cost=5013339.0, total_profit=1653322.5, total_revenue=6666661.5, total_units_sold=9976)\n",
            "Row(region='Europe', country='Montenegro', item_type='Clothes', average_unit_price=109.27999877929688, total_cost=75873.28125, total_profit=155472.484375, total_revenue=231345.765625, total_units_sold=2117)\n",
            "Row(region='Australia and Oceania', country='New Zealand', item_type='Beverages', average_unit_price=47.45000076293945, total_cost=184000.515625, total_profit=90640.078125, total_revenue=274640.59375, total_units_sold=5788)\n",
            "Row(region='Europe', country='Czech Republic', item_type='Cosmetics', average_unit_price=437.20001220703125, total_cost=2411312.75, total_profit=1592127.625, total_revenue=4003440.5, total_units_sold=9157)\n",
            "Row(region='Sub-Saharan Africa', country='Zimbabwe', item_type='Office Supplies', average_unit_price=651.2100219726562, total_cost=5051690.0, total_profit=1214903.75, total_revenue=6266594.0, total_units_sold=9623)\n",
            "Row(region='Middle East and North Africa', country='Kuwait', item_type='Household', average_unit_price=668.27001953125, total_cost=736723.625, total_profit=242960.1875, total_revenue=979683.8125, total_units_sold=1466)\n",
            "Row(region='Asia', country='Kazakhstan', item_type='Snacks', average_unit_price=152.5800018310547, total_cost=131738.875, total_profit=74549.28125, total_revenue=206288.15625, total_units_sold=1352)\n",
            "Row(region='Europe', country='France', item_type='Cosmetics', average_unit_price=437.20001220703125, total_cost=1516254.125, total_profit=1001143.4375, total_revenue=2517397.5, total_units_sold=5758)\n",
            "Row(region='Australia and Oceania', country='Vanuatu', item_type='Cereal', average_unit_price=205.6999969482422, total_cost=665301.9375, total_profit=503279.78125, total_revenue=1168581.75, total_units_sold=5681)\n"
          ]
        }
      ]
    },
    {
      "cell_type": "markdown",
      "source": [
        "GOLD TABLE"
      ],
      "metadata": {
        "id": "rxIg9VTgTAOf"
      }
    },
    {
      "cell_type": "code",
      "source": [
        "fetch_query = \"SELECT * FROM bronze_sales_data\"\n",
        "rows = session.execute(fetch_query)\n",
        "\n",
        "# Convert the rows into a pandas DataFrame\n",
        "data = []\n",
        "for row in rows:\n",
        "    data.append({\n",
        "        'region': row.region,\n",
        "        'country': row.country,\n",
        "        'item_type': row.item_type,\n",
        "        'sales_channel': row.sales_channel,\n",
        "        'order_priority': row.order_priority,\n",
        "        'order_date': row.order_date,\n",
        "        'order_id': row.order_id,\n",
        "        'ship_date': row.ship_date,\n",
        "        'total_units_sold': row.units_sold,\n",
        "        'unit_price': row.unit_price,\n",
        "        'unit_cost': row.unit_cost,\n",
        "        'total_revenue': row.total_revenue,\n",
        "        'total_cost': row.total_cost,\n",
        "        'total_profit': row.total_profit\n",
        "    })\n",
        "\n",
        "# Create a pandas DataFrame from the fetched data\n",
        "df = pd.DataFrame(data)"
      ],
      "metadata": {
        "id": "hd2NUYpaTCf0"
      },
      "execution_count": 40,
      "outputs": []
    },
    {
      "cell_type": "code",
      "source": [
        "drop_table(session,keyspace,'sales_by_region')\n",
        "CREATE_SALES_BY_REGION = \"\"\"\n",
        "CREATE TABLE IF NOT EXISTS sales_by_region (\n",
        "    region TEXT,\n",
        "    total_units_sold INT,\n",
        "    total_revenue FLOAT,\n",
        "    total_cost FLOAT,\n",
        "    total_profit FLOAT,\n",
        "    average_unit_price FLOAT,\n",
        "    PRIMARY KEY (region)\n",
        ")\n",
        "\"\"\"\n",
        "session.execute(CREATE_SALES_BY_REGION)\n",
        "print(\"Gold Table sales_by_region created succesfully\")"
      ],
      "metadata": {
        "colab": {
          "base_uri": "https://localhost:8080/"
        },
        "id": "iAb7yaTmgy3G",
        "outputId": "016a5226-a402-4883-ce4c-fc5d687210f4"
      },
      "execution_count": 45,
      "outputs": [
        {
          "output_type": "stream",
          "name": "stdout",
          "text": [
            "Table 'sales_by_region' does not exist. Ready to create a new table.\n",
            "Gold Table sales_by_region created succesfully\n"
          ]
        }
      ]
    },
    {
      "cell_type": "code",
      "source": [
        "gold_table_1 = df.groupby('region').agg({\n",
        "    'total_units_sold': 'sum',\n",
        "    'total_revenue': 'sum',\n",
        "    'total_cost': 'sum',\n",
        "    'total_profit': 'sum',\n",
        "    'unit_price': 'mean'\n",
        "}).reset_index()\n",
        "\n",
        "for _, row in gold_table_1.iterrows():\n",
        "    insert_query = SimpleStatement(\"\"\"\n",
        "        INSERT INTO sales_by_region (region, total_units_sold, total_revenue, total_cost, total_profit, average_unit_price)\n",
        "        VALUES (%s, %s, %s, %s, %s, %s)\n",
        "    \"\"\")\n",
        "    session.execute(insert_query, (row['region'], row['total_units_sold'], row['total_revenue'],\n",
        "                                   row['total_cost'], row['total_profit'], row['unit_price']))\n",
        "print(\"GOLD TABLE 1\")\n",
        "\n",
        "data = session.execute(\"SELECT * FROM sales_by_region LIMIT 10\")\n",
        "for i in data:\n",
        "    print(i)"
      ],
      "metadata": {
        "colab": {
          "base_uri": "https://localhost:8080/"
        },
        "id": "yBU9Wxuag4q8",
        "outputId": "d3f495d3-0780-462a-d287-6fdd5ef9b024"
      },
      "execution_count": 55,
      "outputs": [
        {
          "output_type": "stream",
          "name": "stdout",
          "text": [
            "GOLD TABLE 1\n",
            "Row(region='Australia and Oceania', average_unit_price=287.90777587890625, total_cost=7224318.0, total_profit=3486940.0, total_revenue=10711258.0, total_units_sold=42328)\n",
            "Row(region='Europe', average_unit_price=251.1858367919922, total_cost=23697468.0, total_profit=11267281.0, total_revenue=34964748.0, total_units_sold=121002)\n",
            "Row(region='Middle East and North Africa', average_unit_price=374.0870056152344, total_cost=18250866.0, total_profit=6514262.0, total_revenue=24765128.0, total_units_sold=60376)\n",
            "Row(region='Central America and the Caribbean', average_unit_price=307.19000244140625, total_cost=13318535.0, total_profit=4252300.0, total_revenue=17570836.0, total_units_sold=53641)\n",
            "Row(region='Asia', average_unit_price=259.8636779785156, total_cost=22090916.0, total_profit=6749896.0, total_revenue=28840812.0, total_units_sold=113129)\n",
            "Row(region='Sub-Saharan Africa', average_unit_price=235.45791625976562, total_cost=16573546.0, total_profit=7651892.0, total_revenue=24225438.0, total_units_sold=92606)\n",
            "Row(region='North America', average_unit_price=259.4649963378906, total_cost=2207136.0, total_profit=1404621.5, total_revenue=3611757.5, total_units_sold=11728)\n"
          ]
        }
      ]
    },
    {
      "cell_type": "code",
      "source": [
        "drop_table(session,keyspace,'sales_by_item_type')\n",
        "CREATE_SALES_BY_ITEM_TYPE = \"\"\"\n",
        "CREATE TABLE IF NOT EXISTS sales_by_item_type (\n",
        "    item_type TEXT,\n",
        "    total_units_sold INT,\n",
        "    total_revenue FLOAT,\n",
        "    total_cost FLOAT,\n",
        "    total_profit FLOAT,\n",
        "    average_unit_price FLOAT,\n",
        "    PRIMARY KEY (item_type)\n",
        ");\n",
        "\"\"\"\n",
        "session.execute(CREATE_SALES_BY_ITEM_TYPE)\n",
        "print(\"Gold Table sales_by_item_type created succesfully\")"
      ],
      "metadata": {
        "colab": {
          "base_uri": "https://localhost:8080/"
        },
        "id": "_pzBj821jKpB",
        "outputId": "e8aae434-e146-46f2-9ca2-4dbebd7384eb"
      },
      "execution_count": 48,
      "outputs": [
        {
          "output_type": "stream",
          "name": "stdout",
          "text": [
            "Table 'sales_by_item_type' already exists in keyspace 'medallion_architecture'. Dropping it...\n",
            "Table 'sales_by_item_type' dropped successfully.\n",
            "Gold Table sales_by_item_type created succesfully\n"
          ]
        }
      ]
    },
    {
      "cell_type": "code",
      "source": [
        "gold_table_2 = df.groupby('item_type').agg({\n",
        "    'total_units_sold': 'sum',\n",
        "    'total_revenue': 'sum',\n",
        "    'total_cost': 'sum',\n",
        "    'total_profit': 'sum',\n",
        "    'unit_price': 'mean'\n",
        "}).reset_index()\n",
        "\n",
        "for _, row in gold_table_2.iterrows():\n",
        "    insert_query = SimpleStatement(\"\"\"\n",
        "        INSERT INTO sales_by_item_type (item_type, total_units_sold, total_revenue, total_cost, total_profit, average_unit_price)\n",
        "        VALUES (%s, %s, %s, %s, %s, %s)\n",
        "    \"\"\")\n",
        "    session.execute(insert_query, (row['item_type'], row['total_units_sold'], row['total_revenue'],\n",
        "                                   row['total_cost'], row['total_profit'], row['unit_price']))\n",
        "print(\"GOLD TABLE 2\")\n",
        "\n",
        "data = session.execute(\"SELECT * FROM sales_by_item_type LIMIT 10\")\n",
        "for i in data:\n",
        "    print(i)\n"
      ],
      "metadata": {
        "colab": {
          "base_uri": "https://localhost:8080/"
        },
        "id": "oR1NweTCjRUE",
        "outputId": "b30a55fe-8b5d-49cb-e5b6-050218ab16e7"
      },
      "execution_count": 56,
      "outputs": [
        {
          "output_type": "stream",
          "name": "stdout",
          "text": [
            "GOLD TABLE 2\n",
            "Row(item_type='Household', average_unit_price=668.27001953125, total_cost=28966406.0, total_profit=9552677.0, total_revenue=38519084.0, total_units_sold=57640)\n",
            "Row(item_type='Office Supplies', average_unit_price=651.2100219726562, total_cost=22475638.0, total_profit=5405267.5, total_revenue=27880904.0, total_units_sold=42814)\n",
            "Row(item_type='Vegetables', average_unit_price=154.05999755859375, total_cost=669972.25, total_profit=465141.84375, total_revenue=1135114.125, total_units_sold=7368)\n",
            "Row(item_type='Snacks', average_unit_price=152.5800018310547, total_cost=1400894.875, total_profit=792747.75, total_revenue=2193642.75, total_units_sold=14377)\n",
            "Row(item_type='Personal Care', average_unit_price=81.7300033569336, total_cost=2212680.0, total_profit=978467.6875, total_revenue=3191147.75, total_units_sold=39045)\n",
            "Row(item_type='Meat', average_unit_price=421.8900146484375, total_cost=18393870.0, total_profit=2884996.5, total_revenue=21278866.0, total_units_sold=50437)\n",
            "Row(item_type='Fruits', average_unit_price=9.329999923706055, total_cost=456166.40625, total_profit=158867.203125, total_revenue=615033.625, total_units_sold=65920)\n",
            "Row(item_type='Beverages', average_unit_price=47.45000076293945, total_cost=1437098.75, total_profit=707925.9375, total_revenue=2145024.75, total_units_sold=45206)\n",
            "Row(item_type='Cereal', average_unit_price=205.6999969482422, total_cost=5360827.5, total_profit=4055295.75, total_revenue=9416123.0, total_units_sold=45776)\n",
            "Row(item_type='Cosmetics', average_unit_price=437.20001220703125, total_cost=17302624.0, total_profit=11424476.0, total_revenue=28727100.0, total_units_sold=65707)\n"
          ]
        }
      ]
    },
    {
      "cell_type": "code",
      "source": [
        "drop_table(session,keyspace,'sales_by_order_priority')\n",
        "CREATE_SALES_BY_ORDER_PRIORITY = \"\"\"\n",
        "CREATE TABLE IF NOT EXISTS sales_by_order_priority (\n",
        "    order_priority TEXT,\n",
        "    total_units_sold INT,\n",
        "    total_revenue FLOAT,\n",
        "    total_cost FLOAT,\n",
        "    total_profit FLOAT,\n",
        "    average_unit_price FLOAT,\n",
        "    PRIMARY KEY (order_priority)\n",
        ")\n",
        "\"\"\"\n",
        "session.execute(CREATE_SALES_BY_ORDER_PRIORITY)\n",
        "print(\"Gold Table sales_by_order_priority created succesfully\")"
      ],
      "metadata": {
        "colab": {
          "base_uri": "https://localhost:8080/"
        },
        "id": "SpIx0jiDkHLL",
        "outputId": "122d4b17-65c4-4f25-ea9c-3f1c6c92118c"
      },
      "execution_count": 53,
      "outputs": [
        {
          "output_type": "stream",
          "name": "stdout",
          "text": [
            "Table 'sales_by_order_priority' already exists in keyspace 'medallion_architecture'. Dropping it...\n",
            "Table 'sales_by_order_priority' dropped successfully.\n",
            "Gold Table sales_by_order_priority created succesfully\n"
          ]
        }
      ]
    },
    {
      "cell_type": "code",
      "source": [
        "gold_table_3 = df.groupby('order_priority').agg({\n",
        "    'total_units_sold': 'sum',\n",
        "    'total_revenue': 'sum',\n",
        "    'total_cost': 'sum',\n",
        "    'total_profit': 'sum',\n",
        "    'unit_price': 'mean'\n",
        "}).reset_index()\n",
        "\n",
        "for _, row in gold_table_3.iterrows():\n",
        "    insert_query = SimpleStatement(\"\"\"\n",
        "        INSERT INTO sales_by_order_priority (order_priority, total_units_sold, total_revenue, total_cost, total_profit, average_unit_price)\n",
        "        VALUES (%s, %s, %s, %s, %s, %s)\n",
        "    \"\"\")\n",
        "    session.execute(insert_query, (row['order_priority'], row['total_units_sold'], row['total_revenue'],\n",
        "                                   row['total_cost'], row['total_profit'], row['unit_price']))\n",
        "\n",
        "print(\"GOLD TABLE 3\")\n",
        "data = session.execute(\"SELECT * FROM sales_by_order_priority LIMIT 10\")\n",
        "for i in data:\n",
        "    print(i)\n"
      ],
      "metadata": {
        "colab": {
          "base_uri": "https://localhost:8080/"
        },
        "id": "p8R13EkBkMqy",
        "outputId": "228f531e-17a9-4e8d-8d14-b6c7dc1b04a4"
      },
      "execution_count": 57,
      "outputs": [
        {
          "output_type": "stream",
          "name": "stdout",
          "text": [
            "GOLD TABLE 3\n",
            "Row(order_priority='C', average_unit_price=349.7989501953125, total_cost=25044636.0, total_profit=7649023.0, total_revenue=32693660.0, total_units_sold=92171)\n",
            "Row(order_priority='M', average_unit_price=269.7085266113281, total_cost=34786864.0, total_profit=14607042.0, total_revenue=49393908.0, total_units_sold=161306)\n",
            "Row(order_priority='H', average_unit_price=284.71453857421875, total_cost=27728600.0, total_profit=11910944.0, total_revenue=39639544.0, total_units_sold=121706)\n",
            "Row(order_priority='L', average_unit_price=198.62208557128906, total_cost=15802683.0, total_profit=7160182.5, total_revenue=22962866.0, total_units_sold=119627)\n"
          ]
        }
      ]
    }
  ]
}